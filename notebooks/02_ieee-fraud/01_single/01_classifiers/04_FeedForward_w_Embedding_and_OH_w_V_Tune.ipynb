{
 "cells": [
  {
   "cell_type": "markdown",
   "id": "18e7847c",
   "metadata": {},
   "source": [
    "# Tuning the Architecture\n",
    "---\n",
    "The layout of the layers and the overall model architecture was chosen quite arbirarily, in this notebook we will run some expermint with Ray-tune to see if we can come-up with a better architecture.\n",
    "\n",
    "Before doing so, it might be interesting to mention some details about Ray, in this notebook a bunch of stuff has changed because of the way Ray works.\n",
    "\n",
    "Ray is designed to optimize on multiple machines. So it has to be able to move contexts from one machine to the next. And it does so by serializing everything it finds in the **training_function**, (in this notebook, named `train_model`) using pickle. That is why it's quite common to having pickling mistakes executing this function.\n",
    "\n",
    "The pickled data is sent to a `Ray Actor` (a separate process) which will execute and report back to the main optimizing function. This has a couple of implications.\n",
    "- We do not want to be sending a lot of information (and there is a 100MB limit) to the actors. So it is best to have each of the actors read the file and build the numpy arrays itself. The reading needs to be done in the training function.\n",
    "- Pickle does not like the Feature object. Not sure why, could be because they are data-classes. Therefore in order to get the `TensorDefinition` into Ray we will need to save them and re-load.\n",
    "- The actors set-up a separate python process. This can be a bit tricky when we have `FeatureExpression` features. They want to function to be in the **main** module context. We'll have to pull a couple of tricks to achieve that (Some of which might feel a bit hacky)\n"
   ]
  },
  {
   "cell_type": "markdown",
   "id": "3d42b835",
   "metadata": {},
   "source": [
    "## Requirements\n",
    "Before running the experiment, make sure to import the `numpy`, `pandas` and `numba`, `torch`, `tqdm`, `matplotlib`, `scikit-learn`, `captum` packages in your virtual environment\n",
    "```\n",
    "> pip install numpy\n",
    "> pip install pandas\n",
    "> pip install numba\n",
    "> pip install torch\n",
    "> pip install tqdm\n",
    "> pip install matplotlib\n",
    "> pip install scikit-learn\n",
    "> pip install captum\n",
    "> pip install ray[tune]\n",
    "```\n",
    "And that the notebook can find the `f3atur3s`, `eng1n3` and `m0d3l` packages."
   ]
  },
  {
   "cell_type": "code",
   "execution_count": 1,
   "id": "a0641378",
   "metadata": {},
   "outputs": [
    {
     "name": "stderr",
     "output_type": "stream",
     "text": [
      "/home/toms/Jupyter/lib/python3.10/site-packages/tqdm/auto.py:21: TqdmWarning: IProgress not found. Please update jupyter and ipywidgets. See https://ipywidgets.readthedocs.io/en/stable/user_install.html\n",
      "  from .autonotebook import tqdm as notebook_tqdm\n"
     ]
    }
   ],
   "source": [
    "%matplotlib inline\n",
    "\n",
    "import marshal, types\n",
    "import sys\n",
    "import gc\n",
    "import shutil\n",
    "import numpy as np\n",
    "import pandas as pd\n",
    "import torch\n",
    "import torch.nn as nn\n",
    "import matplotlib.pyplot as plt\n",
    "import f3atur3s as ft\n",
    "import eng1n3.pandas as en\n",
    "import m0d3l.pytorch as mp\n",
    "import m0d3l.plot as mplt\n",
    "import m0d3l.captum as cp\n",
    "import m0d3l.raytune as rt\n",
    "\n",
    "import ray\n",
    "from ray import tune\n",
    "from ray.tune.schedulers import ASHAScheduler\n",
    "from ray.tune import JupyterNotebookReporter\n",
    "from ray.tune.schedulers import PopulationBasedTraining\n",
    "\n",
    "from captum.attr import IntegratedGradients\n",
    "\n",
    "from typing import Tuple"
   ]
  },
  {
   "cell_type": "markdown",
   "id": "26195f9f",
   "metadata": {},
   "source": [
    "## Set a random seed for Numpy and Torch\n",
    "Will make sure we always sample in the same way. Makes it easier to compare results. At some point it should been removed to test the model stability."
   ]
  },
  {
   "cell_type": "code",
   "execution_count": 2,
   "id": "903e3e68",
   "metadata": {},
   "outputs": [],
   "source": [
    "# Numpy\n",
    "np.random.seed(42)\n",
    "# Torch\n",
    "torch.manual_seed(42)\n",
    "torch.backends.cudnn.deterministic = True\n",
    "torch.backends.cudnn.benchmark = False"
   ]
  },
  {
   "cell_type": "code",
   "execution_count": 3,
   "id": "a9f4286a",
   "metadata": {},
   "outputs": [],
   "source": [
    "## Set up the devices, on from the data and one for modeling.\n",
    "data_device  = torch.device('cpu')\n",
    "model_device = torch.device('cuda') if torch.cuda.is_available() else data_device"
   ]
  },
  {
   "cell_type": "markdown",
   "id": "d079d80e",
   "metadata": {},
   "source": [
    "## File Location\n",
    "Change this to read from another location. We made this an absolute path for **Ray**."
   ]
  },
  {
   "cell_type": "code",
   "execution_count": 7,
   "id": "5b43f25c",
   "metadata": {},
   "outputs": [],
   "source": [
    "tr_train_file = '/home/toms/PycharmProjects/exp3r1m3nts/data/train_transaction.csv'"
   ]
  },
  {
   "cell_type": "markdown",
   "id": "e54ed44e",
   "metadata": {},
   "source": [
    "Define the features. In order for **Ray** to work we imported the required package with in the function. "
   ]
  },
  {
   "cell_type": "code",
   "execution_count": 2,
   "id": "772db7ad",
   "metadata": {},
   "outputs": [
    {
     "ename": "NameError",
     "evalue": "name 'ft' is not defined",
     "output_type": "error",
     "traceback": [
      "\u001b[0;31m---------------------------------------------------------------------------\u001b[0m",
      "\u001b[0;31mNameError\u001b[0m                                 Traceback (most recent call last)",
      "Cell \u001b[0;32mIn[2], line 8\u001b[0m\n\u001b[1;32m      5\u001b[0m     \u001b[38;5;28;01mimport\u001b[39;00m \u001b[38;5;21;01mdatetime\u001b[39;00m \u001b[38;5;28;01mas\u001b[39;00m \u001b[38;5;21;01mdt\u001b[39;00m\n\u001b[1;32m      6\u001b[0m     \u001b[38;5;28;01mreturn\u001b[39;00m dt\u001b[38;5;241m.\u001b[39mdatetime(\u001b[38;5;241m2017\u001b[39m, \u001b[38;5;241m1\u001b[39m, \u001b[38;5;241m11\u001b[39m) \u001b[38;5;241m+\u001b[39m dt\u001b[38;5;241m.\u001b[39mtimedelta(seconds\u001b[38;5;241m=\u001b[39m\u001b[38;5;28mint\u001b[39m(offset))\n\u001b[0;32m----> 8\u001b[0m fraud     \u001b[38;5;241m=\u001b[39m \u001b[43mft\u001b[49m\u001b[38;5;241m.\u001b[39mFeatureSource(\u001b[38;5;124m'\u001b[39m\u001b[38;5;124misFraud\u001b[39m\u001b[38;5;124m'\u001b[39m, ft\u001b[38;5;241m.\u001b[39mFEATURE_TYPE_INT_8)\n\u001b[1;32m      9\u001b[0m dtb       \u001b[38;5;241m=\u001b[39m ft\u001b[38;5;241m.\u001b[39mFeatureSource(\u001b[38;5;124m'\u001b[39m\u001b[38;5;124mTransactionDT\u001b[39m\u001b[38;5;124m'\u001b[39m, ft\u001b[38;5;241m.\u001b[39mFEATURE_TYPE_INT_32)\n\u001b[1;32m     10\u001b[0m date_time \u001b[38;5;241m=\u001b[39m ft\u001b[38;5;241m.\u001b[39mFeatureExpression(\u001b[38;5;124m'\u001b[39m\u001b[38;5;124mdate_time\u001b[39m\u001b[38;5;124m'\u001b[39m, ft\u001b[38;5;241m.\u001b[39mFEATURE_TYPE_DATE_TIME, offset_to_datetime, [dtb])\n",
      "\u001b[0;31mNameError\u001b[0m: name 'ft' is not defined"
     ]
    }
   ],
   "source": [
    "# Function that converts a step to a date. It adds the step as days to a fixed date.\n",
    "# The import of dt is needed to make Ray work. \n",
    "# If not imported here, the dt will not be available in the __main__ context\n",
    "def offset_to_datetime(offset: int):\n",
    "    import datetime as dt\n",
    "    return dt.datetime(2017, 1, 11) + dt.timedelta(seconds=int(offset))\n",
    "\n",
    "fraud     = ft.FeatureSource('isFraud', ft.FEATURE_TYPE_INT_8)\n",
    "dtb       = ft.FeatureSource('TransactionDT', ft.FEATURE_TYPE_INT_32)\n",
    "date_time = ft.FeatureExpression('date_time', ft.FEATURE_TYPE_DATE_TIME, offset_to_datetime, [dtb])\n",
    "\n",
    "# Base Categorical features\n",
    "amount  = ft.FeatureSource('TransactionAmt', ft.FEATURE_TYPE_FLOAT_32)\n",
    "product = ft.FeatureSource('ProductCD', ft.FEATURE_TYPE_CATEGORICAL)\n",
    "card1   = ft.FeatureSource('card1', ft.FEATURE_TYPE_CATEGORICAL)\n",
    "card2   = ft.FeatureSource('card2', ft.FEATURE_TYPE_CATEGORICAL)\n",
    "card3   = ft.FeatureSource('card3', ft.FEATURE_TYPE_CATEGORICAL)\n",
    "card4   = ft.FeatureSource('card4', ft.FEATURE_TYPE_CATEGORICAL)\n",
    "card5   = ft.FeatureSource('card5', ft.FEATURE_TYPE_CATEGORICAL)\n",
    "card6   = ft.FeatureSource('card6', ft.FEATURE_TYPE_CATEGORICAL)\n",
    "addr1   = ft.FeatureSource('addr1', ft.FEATURE_TYPE_CATEGORICAL)\n",
    "addr2   = ft.FeatureSource('addr2', ft.FEATURE_TYPE_CATEGORICAL)\n",
    "dist1   = ft.FeatureSource('dist1', ft.FEATURE_TYPE_FLOAT_32)\n",
    "p_mail_dom = ft.FeatureSource('P_emaildomain', ft.FEATURE_TYPE_CATEGORICAL)\n",
    "r_mail_dom = ft.FeatureSource('R_emaildomain', ft.FEATURE_TYPE_CATEGORICAL)\n",
    "\n",
    "# Raw count features\n",
    "c1  = ft.FeatureSource('C1', ft.FEATURE_TYPE_FLOAT_32)\n",
    "c2  = ft.FeatureSource('C2', ft.FEATURE_TYPE_FLOAT_32)\n",
    "c3  = ft.FeatureSource('C3', ft.FEATURE_TYPE_FLOAT_32)\n",
    "c4  = ft.FeatureSource('C4', ft.FEATURE_TYPE_FLOAT_32)\n",
    "c5  = ft.FeatureSource('C5', ft.FEATURE_TYPE_FLOAT_32)\n",
    "c6  = ft.FeatureSource('C6', ft.FEATURE_TYPE_FLOAT_32)\n",
    "c7  = ft.FeatureSource('C7', ft.FEATURE_TYPE_FLOAT_32)\n",
    "c8  = ft.FeatureSource('C8', ft.FEATURE_TYPE_FLOAT_32)\n",
    "c9  = ft.FeatureSource('C9', ft.FEATURE_TYPE_FLOAT_32)\n",
    "c10 = ft.FeatureSource('C10', ft.FEATURE_TYPE_FLOAT_32)\n",
    "c11 = ft.FeatureSource('C11', ft.FEATURE_TYPE_FLOAT_32)\n",
    "c12 = ft.FeatureSource('C12', ft.FEATURE_TYPE_FLOAT_32)\n",
    "c13 = ft.FeatureSource('C13', ft.FEATURE_TYPE_FLOAT_32)\n",
    "c14 = ft.FeatureSource('C14', ft.FEATURE_TYPE_FLOAT_32)\n",
    "\n",
    "# Raw distance features.\n",
    "d1  = ft.FeatureSource('D1', ft.FEATURE_TYPE_FLOAT_32)\n",
    "d2  = ft.FeatureSource('D2', ft.FEATURE_TYPE_FLOAT_32)\n",
    "d3  = ft.FeatureSource('D3', ft.FEATURE_TYPE_FLOAT_32)\n",
    "d4  = ft.FeatureSource('D4', ft.FEATURE_TYPE_FLOAT_32)\n",
    "d5  = ft.FeatureSource('D5', ft.FEATURE_TYPE_FLOAT_32)\n",
    "d6  = ft.FeatureSource('D6', ft.FEATURE_TYPE_FLOAT_32)\n",
    "d7  = ft.FeatureSource('D7', ft.FEATURE_TYPE_FLOAT_32)\n",
    "d8  = ft.FeatureSource('D8', ft.FEATURE_TYPE_FLOAT_32)\n",
    "d9  = ft.FeatureSource('D9', ft.FEATURE_TYPE_FLOAT_32)\n",
    "d10 = ft.FeatureSource('D10', ft.FEATURE_TYPE_FLOAT_32)\n",
    "d11 = ft.FeatureSource('D11', ft.FEATURE_TYPE_FLOAT_32)\n",
    "d12 = ft.FeatureSource('D12', ft.FEATURE_TYPE_FLOAT_32)\n",
    "d13 = ft.FeatureSource('D13', ft.FEATURE_TYPE_FLOAT_32)\n",
    "d14 = ft.FeatureSource('D14', ft.FEATURE_TYPE_FLOAT_32)\n",
    "d15 = ft.FeatureSource('D15', ft.FEATURE_TYPE_FLOAT_32)\n",
    "\n",
    "# Match features.\n",
    "m1 = ft.FeatureSource('M1', ft.FEATURE_TYPE_CATEGORICAL)\n",
    "m2 = ft.FeatureSource('M2', ft.FEATURE_TYPE_CATEGORICAL)\n",
    "m3 = ft.FeatureSource('M3', ft.FEATURE_TYPE_CATEGORICAL)\n",
    "m4 = ft.FeatureSource('M4', ft.FEATURE_TYPE_CATEGORICAL)\n",
    "m5 = ft.FeatureSource('M5', ft.FEATURE_TYPE_CATEGORICAL)\n",
    "m6 = ft.FeatureSource('M6', ft.FEATURE_TYPE_CATEGORICAL)\n",
    "m7 = ft.FeatureSource('M7', ft.FEATURE_TYPE_CATEGORICAL)\n",
    "m8 = ft.FeatureSource('M8', ft.FEATURE_TYPE_CATEGORICAL)\n",
    "m9 = ft.FeatureSource('M9', ft.FEATURE_TYPE_CATEGORICAL)\n",
    "\n",
    "# V-Features\n",
    "v_base_features = [ft.FeatureSource(f'V{i}', ft.FEATURE_TYPE_FLOAT_32) for i in range(1,340)]\n",
    "\n",
    "base_features = [\n",
    "    date_time, amount, product, fraud, card1, card2, card3, card4, card5, card6, addr1, addr2, dist1,\n",
    "    c1, c2, c3, c4, c5, c6, c7, c8, c9, c10, c11, c12, c13, c14, d1, d2, d3, d4, d5, d6, d7, d8, d9,\n",
    "    d10, d11, d12, d13, d14, d15, m1, m2, m3, m4, m5, m6, m7, m8, m9\n",
    "]\n",
    "\n",
    "td = ft.TensorDefinition('transactions', base_features + v_base_features)\n",
    "\n",
    "with en.EnginePandas(num_threads=1, no_logging=True) as e:\n",
    "    df = e.df_from_csv(td, tr_train_file, inference=False)"
   ]
  },
  {
   "cell_type": "markdown",
   "id": "058bb320",
   "metadata": {},
   "source": [
    "### Define Features\n",
    "We changed the function of the `FeatureExpression` so we can get **Ray** to work."
   ]
  },
  {
   "cell_type": "code",
   "execution_count": 9,
   "id": "641f29ff",
   "metadata": {},
   "outputs": [],
   "source": [
    "# Categorical features.\n",
    "amount_bin  = ft.FeatureBin('Amount_Bin', ft.FEATURE_TYPE_INT_8, amount, 30, scale_type='geometric')\n",
    "dist_bin    = ft.FeatureBin('Dist_Bin', ft.FEATURE_TYPE_INT_8, dist1, 20, scale_type='geometric')\n",
    "dow         = ft.FeatureDateTimeFormat('day_of_week', ft.FEATURE_TYPE_INT_8, date_time, '%w')\n",
    "dom         = ft.FeatureDateTimeFormat('day_of_month', ft.FEATURE_TYPE_INT_16, date_time, '%d')\n",
    "hod         = ft.FeatureDateTimeFormat('hour_of_day', ft.FEATURE_TYPE_INT_16, date_time, '%H')\n",
    "dow_i       = ft.FeatureIndex('day_of_week_i', ft.FEATURE_TYPE_INT_16, dow)\n",
    "dom_i       = ft.FeatureIndex('day_of_month_i', ft.FEATURE_TYPE_INT_16, dom)\n",
    "hod_i       = ft.FeatureIndex('hour_of_day_i', ft.FEATURE_TYPE_INT_16, hod)\n",
    "product_i   = ft.FeatureIndex('product_i', ft.FEATURE_TYPE_INT_16, product)\n",
    "card2_i     = ft.FeatureIndex('card2_i', ft.FEATURE_TYPE_INT_16, card2)\n",
    "card3_i     = ft.FeatureIndex('card3_i', ft.FEATURE_TYPE_INT_16, card3)\n",
    "card4_i     = ft.FeatureIndex('card4_i', ft.FEATURE_TYPE_INT_16, card4)\n",
    "card5_i     = ft.FeatureIndex('card5_i', ft.FEATURE_TYPE_INT_16, card5)\n",
    "card6_i     = ft.FeatureIndex('card6_i', ft.FEATURE_TYPE_INT_16, card6)\n",
    "addr1_i     = ft.FeatureIndex('addr1_i', ft.FEATURE_TYPE_INT_16, addr1)\n",
    "addr2_i     = ft.FeatureIndex('addr2_i', ft.FEATURE_TYPE_INT_16, addr2)\n",
    "p_mail_dom_i = ft.FeatureIndex('P_emaildomain_i', ft.FEATURE_TYPE_INT_16, p_mail_dom)\n",
    "r_mail_dom_i = ft.FeatureIndex('R_emaildomain_i', ft.FEATURE_TYPE_INT_16, r_mail_dom)\n",
    "\n",
    "# Count Features\n",
    "c1_bin     = ft.FeatureBin('C1_Bin', ft.FEATURE_TYPE_INT_8, c1, 20, scale_type='geometric')\n",
    "c2_bin     = ft.FeatureBin('C2_Bin', ft.FEATURE_TYPE_INT_8, c2, 20, scale_type='geometric')\n",
    "c4_bin     = ft.FeatureBin('C4_Bin', ft.FEATURE_TYPE_INT_8, c4, 20, scale_type='geometric')\n",
    "c5_bin     = ft.FeatureBin('C5_Bin', ft.FEATURE_TYPE_INT_8, c5, 20, scale_type='geometric')\n",
    "c6_bin     = ft.FeatureBin('C6_Bin', ft.FEATURE_TYPE_INT_8, c6, 20, scale_type='geometric')\n",
    "c7_bin     = ft.FeatureBin('C7_Bin', ft.FEATURE_TYPE_INT_8, c7, 20, scale_type='geometric')\n",
    "c8_bin     = ft.FeatureBin('C8_Bin', ft.FEATURE_TYPE_INT_8, c8, 20, scale_type='geometric')\n",
    "c9_bin     = ft.FeatureBin('C9_Bin', ft.FEATURE_TYPE_INT_8, c9, 20, scale_type='geometric')\n",
    "c10_bin    = ft.FeatureBin('C10_Bin', ft.FEATURE_TYPE_INT_8, c10, 20, scale_type='geometric')\n",
    "c11_bin    = ft.FeatureBin('C11_Bin', ft.FEATURE_TYPE_INT_8, c11, 20, scale_type='geometric')\n",
    "c12_bin    = ft.FeatureBin('C12_Bin', ft.FEATURE_TYPE_INT_8, c12, 20, scale_type='geometric')\n",
    "c13_bin    = ft.FeatureBin('C13_Bin', ft.FEATURE_TYPE_INT_8, c13, 20, scale_type='geometric')\n",
    "c14_bin    = ft.FeatureBin('C14_Bin', ft.FEATURE_TYPE_INT_8, c14, 20, scale_type='geometric')\n",
    "\n",
    "\n",
    "# Function to replace a negative number with Nan. For use as FeatureExpression.\n",
    "# The import of math/np is needed to make Ray work. \n",
    "# If not imported here, math/np will not be available in the __main__ context\n",
    "def set_negative_to_nan(feature: int):\n",
    "    import math\n",
    "    import numpy as np\n",
    "    return feature if not math.isnan(feature) and feature >= 0 else np.nan\n",
    "\n",
    "# Timing Features\n",
    "d1_bin  = ft.FeatureBin('D1_Bin', ft.FEATURE_TYPE_INT_8, d1, 15)\n",
    "d2_bin  = ft.FeatureBin('D2_Bin', ft.FEATURE_TYPE_INT_8, d2, 15)\n",
    "d3_bin  = ft.FeatureBin('D3_Bin', ft.FEATURE_TYPE_INT_8, d3, 15)\n",
    "d4_bin  = ft.FeatureBin('D4_Bin', ft.FEATURE_TYPE_INT_8, d4, 15)\n",
    "d5_bin  = ft.FeatureBin('D5_Bin', ft.FEATURE_TYPE_INT_8, d5, 15)\n",
    "d6_ex   = ft.FeatureExpression('d6_ex', ft.FEATURE_TYPE_FLOAT_32, set_negative_to_nan, [d6])\n",
    "d6_bin  = ft.FeatureBin('D6_Bin', ft.FEATURE_TYPE_INT_8, d6_ex, 15)\n",
    "d7_bin  = ft.FeatureBin('D7_Bin', ft.FEATURE_TYPE_INT_8, d7, 15)\n",
    "d8_bin  = ft.FeatureBin('D8_Bin', ft.FEATURE_TYPE_INT_8, d8, 15)\n",
    "d9_bin  = ft.FeatureBin('D9_Bin', ft.FEATURE_TYPE_INT_8, d9, 15)\n",
    "d10_bin = ft.FeatureBin('D10_Bin', ft.FEATURE_TYPE_INT_8, d10, 15)\n",
    "d11_ex  = ft.FeatureExpression('d11_ex', ft.FEATURE_TYPE_FLOAT_32, set_negative_to_nan, [d11])\n",
    "d11_bin = ft.FeatureBin('D11_Bin', ft.FEATURE_TYPE_INT_8, d11_ex, 15)\n",
    "d12_ex  = ft.FeatureExpression('d12_ex', ft.FEATURE_TYPE_FLOAT_32, set_negative_to_nan, [d12])\n",
    "d12_bin = ft.FeatureBin('D12_Bin', ft.FEATURE_TYPE_INT_8, d12_ex, 15)\n",
    "d13_bin = ft.FeatureBin('D13_Bin', ft.FEATURE_TYPE_INT_8, d13, 15)\n",
    "d14_ex  = ft.FeatureExpression('d14_ex', ft.FEATURE_TYPE_FLOAT_32, set_negative_to_nan, [d14])\n",
    "d14_bin = ft.FeatureBin('D14_Bin', ft.FEATURE_TYPE_INT_8, d14_ex, 15)\n",
    "d15_ex  = ft.FeatureExpression('d15_ex', ft.FEATURE_TYPE_FLOAT_32, set_negative_to_nan, [d15])\n",
    "d15_bin = ft.FeatureBin('D15_Bin', ft.FEATURE_TYPE_INT_8, d15_ex, 15)\n",
    "\n",
    "# Match features.\n",
    "m1_oh = ft.FeatureOneHot('m1_oh', ft.FEATURE_TYPE_INT_8, m1)\n",
    "m2_oh = ft.FeatureOneHot('m2_oh', ft.FEATURE_TYPE_INT_8, m2)\n",
    "m3_oh = ft.FeatureOneHot('m3_oh', ft.FEATURE_TYPE_INT_8, m3)\n",
    "m4_oh = ft.FeatureOneHot('m4_oh', ft.FEATURE_TYPE_INT_8, m4)\n",
    "m5_oh = ft.FeatureOneHot('m5_oh', ft.FEATURE_TYPE_INT_8, m5)\n",
    "m6_oh = ft.FeatureOneHot('m6_oh', ft.FEATURE_TYPE_INT_8, m6)\n",
    "m7_oh = ft.FeatureOneHot('m7_oh', ft.FEATURE_TYPE_INT_8, m7)\n",
    "m8_oh = ft.FeatureOneHot('m8_oh', ft.FEATURE_TYPE_INT_8, m8)\n",
    "m9_oh = ft.FeatureOneHot('m9_oh', ft.FEATURE_TYPE_INT_8, m9)\n",
    "\n",
    "# Define all possible V-Features features\n",
    "v_features_i = [\n",
    "    ft.FeatureIndex(f'v{i+1}_i', ft.FEATURE_TYPE_INT_32, ft.FeatureSource(f'V{i+1}', ft.FEATURE_TYPE_CATEGORICAL)) \n",
    "    if df[f.name].max() < 20 and all(df[f.name].dropna().apply(float.is_integer)) \n",
    "    else ft.FeatureBin(f'v{i+1}_bin', ft.FEATURE_TYPE_INT_8, f, 20, scale_type='geometric') \n",
    "    for i, f in enumerate(v_base_features)\n",
    "]\n",
    "\n",
    "# Label Feature\n",
    "fraud_label = ft.FeatureLabelBinary('Fraud_label', ft.FEATURE_TYPE_INT_8, fraud)\n",
    "\n",
    "# TensorDefinitions\n",
    "td_categorical = ft.TensorDefinition('ieee-categorical', [\n",
    "    amount_bin, dist_bin, dow_i, hod_i, product_i, card2_i, card3_i, card4_i, card5_i, card6_i, addr1_i, \n",
    "    p_mail_dom_i, r_mail_dom_i\n",
    "])\n",
    "\n",
    "td_counts = ft.TensorDefinition('ieee-counts', [\n",
    "    c1_bin, c2_bin, c4_bin, c5_bin, c6_bin, c7_bin, c8_bin, c9_bin, c10_bin, \n",
    "    c11_bin, c12_bin, c13_bin, c14_bin\n",
    "])\n",
    "\n",
    "td_timing = ft.TensorDefinition('ieee-timing', [\n",
    "    d1_bin, d2_bin, d3_bin, d4_bin, d5_bin, d6_bin, d7_bin, d8_bin, d9_bin, d10_bin, \n",
    "    d11_bin, d12_bin, d13_bin, d14_bin, d15_bin\n",
    "])\n",
    "\n",
    "\n",
    "td_match = ft.TensorDefinition('ieee-match', [m1_oh, m2_oh, m3_oh, m4_oh, m5_oh, m6_oh, m7_oh, m8_oh, m9_oh])\n",
    "\n",
    "top30_var = [\n",
    "        'v69_i', 'v90_i', 'v10_i', 'v282_bin', 'v130_bin', 'v48_i', 'v29_i', 'v62_i', 'v83_i', 'v76_i', 'v54_i', \n",
    "        'v283_bin', 'v20_i','v302_i', 'v13_i', 'v45_bin', 'v314_bin', 'v5_i', 'v36_i', 'v315_bin', 'v86_bin', \n",
    "        'v296_bin', 'v38_bin', 'v285_bin', 'v56_bin', 'v310_bin', 'v317_bin', 'v78_bin', 'v77_bin', 'v201_bin'\n",
    "]\n",
    "\n",
    "td_vesta_best_var = ft.TensorDefinition(\n",
    "    'IEEE-V-Features-Best-Var', [f for f in v_features_i if f.name in top30_var]\n",
    ")\n",
    "\n",
    "td_label = ft.TensorDefinition('ieee-label', [fraud_label])"
   ]
  },
  {
   "cell_type": "code",
   "execution_count": 10,
   "id": "9f71b306",
   "metadata": {},
   "outputs": [],
   "source": [
    "del df\n",
    "_ = gc.collect()"
   ]
  },
  {
   "cell_type": "markdown",
   "id": "f8250570",
   "metadata": {},
   "source": [
    "### Save TensorDefinitions"
   ]
  },
  {
   "cell_type": "code",
   "execution_count": 11,
   "id": "b114452b",
   "metadata": {},
   "outputs": [],
   "source": [
    "# This needs to be an absolute path for Ray\n",
    "td_categorical_location = '/home/toms/PycharmProjects/exp3r1m3nts/td_categorical'\n",
    "td_counts_location      = '/home/toms/PycharmProjects/exp3r1m3nts/td_counts'\n",
    "td_timing_location      = '/home/toms/PycharmProjects/exp3r1m3nts/td_timing'\n",
    "td_match_location       = '/home/toms/PycharmProjects/exp3r1m3nts/td_match'\n",
    "td_vesta_location       = '/home/toms/PycharmProjects/exp3r1m3nts/td_vesta'\n",
    "td_label_location       = '/home/toms/PycharmProjects/exp3r1m3nts/td_label'\n",
    "\n",
    "shutil.rmtree(td_categorical_location, ignore_errors=True)\n",
    "shutil.rmtree(td_counts_location, ignore_errors=True)\n",
    "shutil.rmtree(td_timing_location, ignore_errors=True)\n",
    "shutil.rmtree(td_match_location, ignore_errors=True)\n",
    "shutil.rmtree(td_vesta_location, ignore_errors=True)\n",
    "shutil.rmtree(td_label_location, ignore_errors=True)\n",
    "\n",
    "ft.TensorDefinitionSaver.save(td_categorical, td_categorical_location)\n",
    "ft.TensorDefinitionSaver.save(td_counts, td_counts_location)\n",
    "ft.TensorDefinitionSaver.save(td_timing, td_timing_location)\n",
    "ft.TensorDefinitionSaver.save(td_match, td_match_location)\n",
    "ft.TensorDefinitionSaver.save(td_vesta_best_var, td_vesta_location)\n",
    "ft.TensorDefinitionSaver.save(td_label, td_label_location)"
   ]
  },
  {
   "cell_type": "markdown",
   "id": "edcb92e1",
   "metadata": {},
   "source": [
    "### Define Model"
   ]
  },
  {
   "cell_type": "code",
   "execution_count": 12,
   "id": "b5964376",
   "metadata": {},
   "outputs": [],
   "source": [
    "class IEEEFeedForwardModel(mp.BinaryClassifier):\n",
    "    def __init__(self, \n",
    "                 model_configuration: mp.ModelConfiguration, \n",
    "                 emb_min_dims:int,\n",
    "                 emb_max_dims:int,\n",
    "                 emb_dropout:float,\n",
    "                 lin_start_size:int, \n",
    "                 lin_nr_layers: int, \n",
    "                 lin_scale: int\n",
    "                ):\n",
    "        # Always call init, it is very important to correctly initialize the nn.Module\n",
    "        super(IEEEFeedForwardModel, self).__init__(model_configuration)\n",
    "        \n",
    "        # Create the heads, they are the first layer of the NN.\n",
    "        self.heads = self.create_heads(min_dims=emb_min_dims, max_dims=emb_max_dims, dropout=emb_dropout)\n",
    "        heads_size = sum([h.output_size for h in self.heads])\n",
    "        \n",
    "        layer_sizes = [lin_start_size]\n",
    "        for i in range(lin_nr_layers-1):\n",
    "            layer_sizes.append(int(layer_sizes[-1] // lin_scale))\n",
    "\n",
    "        # Set of layers\n",
    "        self.layers = mp.LinLayer(input_size=heads_size, layer_sizes=layer_sizes, dropout=0.0, bn_interval=2)\n",
    "        \n",
    "        # And a tail layer, for a binary classifier this is a Sigmoid.\n",
    "        self.tail = self.create_tail(self.layers.output_size)\n",
    "\n",
    "    # Create a forward-pass function through the neural net. Make sure to return a Tuple of Tensors!\n",
    "    def forward(self, x: Tuple[torch.Tensor, ...]) -> Tuple[torch.Tensor, ...]:\n",
    "        o = torch.cat([h(x[i]) for i, h in enumerate(self.heads)], dim=1)\n",
    "        o = self.layers(o)\n",
    "        o = self.tail(o)\n",
    "        return (o,)"
   ]
  },
  {
   "cell_type": "markdown",
   "id": "84b35288",
   "metadata": {},
   "source": [
    "## Tune w/Ray "
   ]
  },
  {
   "cell_type": "markdown",
   "id": "e8524af1",
   "metadata": {},
   "source": [
    "### Define some variables"
   ]
  },
  {
   "cell_type": "code",
   "execution_count": null,
   "id": "32fba900",
   "metadata": {},
   "outputs": [],
   "source": [
    "EPOCS        = 5\n",
    "NR_OF_TRIALS = 1"
   ]
  },
  {
   "cell_type": "markdown",
   "id": "a1ea368f",
   "metadata": {},
   "source": [
    "### Create Ray training process\n",
    "There are some intricacies in this process. In the first lines, we first save the code of the functions of our `FeatureExpression` features. Then within the process, we re-create those functions in the __main__ of the Ray Actor. After that is done, we can load the `TensorDefinition` objects which we saved earlier, read our file and we are off to the races."
   ]
  },
  {
   "cell_type": "code",
   "execution_count": 14,
   "id": "030a24e2",
   "metadata": {},
   "outputs": [],
   "source": [
    "otdt_code = marshal.loads(marshal.dumps(offset_to_datetime.__code__))\n",
    "sntn_code = marshal.loads(marshal.dumps(set_negative_to_nan.__code__))\n",
    "\n",
    "def train_model(config):\n",
    "    # Make sure the FeatureExpression functions are available in the __main__ of each Ray Actor.\n",
    "    setattr(\n",
    "        sys.modules['__main__'], \n",
    "        'offset_to_datetime', \n",
    "        types.FunctionType(otdt_code, globals(), 'offset_to_datetime')\n",
    "    )\n",
    "    setattr(\n",
    "        sys.modules['__main__'], \n",
    "        'set_negative_to_nan', \n",
    "        types.FunctionType(sntn_code, globals(), 'set_negative_to_nan')\n",
    "    )\n",
    "\n",
    "    # Load the TensorDefinitions\n",
    "    td_categorical    = ft.TensorDefinitionLoader.load(td_categorical_location)\n",
    "    td_counts         = ft.TensorDefinitionLoader.load(td_counts_location)\n",
    "    td_timing         = ft.TensorDefinitionLoader.load(td_timing_location)\n",
    "    td_match          = ft.TensorDefinitionLoader.load(td_match_location)\n",
    "    td_vesta_best_var = ft.TensorDefinitionLoader.load(td_vesta_location)\n",
    "    td_label          = ft.TensorDefinitionLoader.load(td_label_location)\n",
    "    \n",
    "    # Read file\n",
    "    with en.EnginePandas(num_threads=1, no_logging=True) as e:\n",
    "        ti = e.np_from_csv(\n",
    "            (td_categorical, td_counts, td_timing, td_match, td_vesta_best_var, td_label), \n",
    "            tr_train_file, inference=False\n",
    "        )\n",
    "    \n",
    "    mc = mp.ModelConfiguration.from_tensor_definitions(ti.target_tensor_def)\n",
    "    \n",
    "    train, val, test = ti.split_sequential(10000,0)\n",
    "    train_sampler = mp.TensorInstanceNumpyLabelSampler().over_sampler(train)\n",
    "    train_ds = mp.TensorInstanceNumpyDataSet(train)\n",
    "    val_ds   = mp.TensorInstanceNumpyDataSet(val)\n",
    "\n",
    "    train_dl = train_ds.data_loader(torch.device('cpu'), 128, num_workers=2, sampler=train_sampler)\n",
    "    val_dl   = val_ds.data_loader(torch.device('cpu'), 128, num_workers=2)\n",
    "           \n",
    "    model = IEEEFeedForwardModel(mc, config['start_size'], config['nr_layers'], config['scale'])\n",
    "    \n",
    "    trainer = rt.RayTrainer(model, model_device, train_dl, val_dl)\n",
    "    optimizer = mp.AdamWOptimizer(model, lr=3e-3)\n",
    "    \n",
    "    _ = trainer.train(EPOCS, optimizer)"
   ]
  },
  {
   "cell_type": "markdown",
   "id": "77b37ff7",
   "metadata": {},
   "source": [
    "### Define the config"
   ]
  },
  {
   "cell_type": "code",
   "execution_count": null,
   "id": "ca2022d7",
   "metadata": {},
   "outputs": [],
   "source": [
    "config = {\n",
    "    \"start_size\": tune.grid_search([128, 256, 512]),\n",
    "    \"nr_layers\": tune.grid_search([2, 4]),\n",
    "    \"scale\": tune.grid_search([1, 2]),\n",
    "}"
   ]
  },
  {
   "cell_type": "code",
   "execution_count": 15,
   "id": "46e27257",
   "metadata": {},
   "outputs": [],
   "source": [
    "scheduler = ASHAScheduler(\n",
    "    metric=\"loss\",\n",
    "    mode=\"min\",\n",
    "    max_t=EPOCS,\n",
    "    grace_period=2\n",
    ")"
   ]
  },
  {
   "cell_type": "code",
   "execution_count": 16,
   "id": "412f8b7e",
   "metadata": {},
   "outputs": [
    {
     "data": {
      "text/html": [
       "<div class=\"tuneStatus\">\n",
       "  <div style=\"display: flex;flex-direction: row\">\n",
       "    <div style=\"display: flex;flex-direction: column;\">\n",
       "      <h3>Tune Status</h3>\n",
       "      <table>\n",
       "<tbody>\n",
       "<tr><td>Current time:</td><td>2023-05-30 17:29:58</td></tr>\n",
       "<tr><td>Running for: </td><td>00:20:47.45        </td></tr>\n",
       "<tr><td>Memory:      </td><td>7.0/31.3 GiB       </td></tr>\n",
       "</tbody>\n",
       "</table>\n",
       "    </div>\n",
       "    <div class=\"vDivider\"></div>\n",
       "    <div class=\"systemInfo\">\n",
       "      <h3>System Info</h3>\n",
       "      Using AsyncHyperBand: num_stopped=12<br>Bracket: Iter 2.000: -0.183975<br>Resources requested: 0/16 CPUs, 0/1 GPUs, 0.0/16.67 GiB heap, 0.0/8.34 GiB objects (0.0/1.0 accelerator_type:G)\n",
       "    </div>\n",
       "    \n",
       "  </div>\n",
       "  <div class=\"hDivider\"></div>\n",
       "  <div class=\"trialStatus\">\n",
       "    <h3>Trial Status</h3>\n",
       "    <table>\n",
       "<thead>\n",
       "<tr><th>Trial name             </th><th>status    </th><th>loc               </th><th style=\"text-align: right;\">  start_size</th><th style=\"text-align: right;\">  nr_layers</th><th style=\"text-align: right;\">  scale</th><th style=\"text-align: right;\">  loss</th><th style=\"text-align: right;\">  training_iteration</th></tr>\n",
       "</thead>\n",
       "<tbody>\n",
       "<tr><td>train_model_ee6a8_00000</td><td>TERMINATED</td><td>192.168.0.69:75727</td><td style=\"text-align: right;\">         128</td><td style=\"text-align: right;\">          2</td><td style=\"text-align: right;\">      1</td><td style=\"text-align: right;\">0.1772</td><td style=\"text-align: right;\">                   5</td></tr>\n",
       "<tr><td>train_model_ee6a8_00001</td><td>TERMINATED</td><td>192.168.0.69:76844</td><td style=\"text-align: right;\">         128</td><td style=\"text-align: right;\">          4</td><td style=\"text-align: right;\">      1</td><td style=\"text-align: right;\">0.2068</td><td style=\"text-align: right;\">                   2</td></tr>\n",
       "<tr><td>train_model_ee6a8_00002</td><td>TERMINATED</td><td>192.168.0.69:77335</td><td style=\"text-align: right;\">         128</td><td style=\"text-align: right;\">          2</td><td style=\"text-align: right;\">      2</td><td style=\"text-align: right;\">0.2312</td><td style=\"text-align: right;\">                   2</td></tr>\n",
       "<tr><td>train_model_ee6a8_00003</td><td>TERMINATED</td><td>192.168.0.69:77869</td><td style=\"text-align: right;\">         128</td><td style=\"text-align: right;\">          4</td><td style=\"text-align: right;\">      2</td><td style=\"text-align: right;\">0.1799</td><td style=\"text-align: right;\">                   5</td></tr>\n",
       "<tr><td>train_model_ee6a8_00004</td><td>TERMINATED</td><td>192.168.0.69:78881</td><td style=\"text-align: right;\">         256</td><td style=\"text-align: right;\">          2</td><td style=\"text-align: right;\">      1</td><td style=\"text-align: right;\">0.1703</td><td style=\"text-align: right;\">                   5</td></tr>\n",
       "<tr><td>train_model_ee6a8_00005</td><td>TERMINATED</td><td>192.168.0.69:79934</td><td style=\"text-align: right;\">         256</td><td style=\"text-align: right;\">          4</td><td style=\"text-align: right;\">      1</td><td style=\"text-align: right;\">0.1688</td><td style=\"text-align: right;\">                   5</td></tr>\n",
       "<tr><td>train_model_ee6a8_00006</td><td>TERMINATED</td><td>192.168.0.69:81017</td><td style=\"text-align: right;\">         256</td><td style=\"text-align: right;\">          2</td><td style=\"text-align: right;\">      2</td><td style=\"text-align: right;\">0.2138</td><td style=\"text-align: right;\">                   2</td></tr>\n",
       "<tr><td>train_model_ee6a8_00007</td><td>TERMINATED</td><td>192.168.0.69:81508</td><td style=\"text-align: right;\">         256</td><td style=\"text-align: right;\">          4</td><td style=\"text-align: right;\">      2</td><td style=\"text-align: right;\">0.1967</td><td style=\"text-align: right;\">                   2</td></tr>\n",
       "<tr><td>train_model_ee6a8_00008</td><td>TERMINATED</td><td>192.168.0.69:81999</td><td style=\"text-align: right;\">         512</td><td style=\"text-align: right;\">          2</td><td style=\"text-align: right;\">      1</td><td style=\"text-align: right;\">0.2082</td><td style=\"text-align: right;\">                   5</td></tr>\n",
       "<tr><td>train_model_ee6a8_00009</td><td>TERMINATED</td><td>192.168.0.69:83017</td><td style=\"text-align: right;\">         512</td><td style=\"text-align: right;\">          4</td><td style=\"text-align: right;\">      1</td><td style=\"text-align: right;\">0.2014</td><td style=\"text-align: right;\">                   2</td></tr>\n",
       "<tr><td>train_model_ee6a8_00010</td><td>TERMINATED</td><td>192.168.0.69:83512</td><td style=\"text-align: right;\">         512</td><td style=\"text-align: right;\">          2</td><td style=\"text-align: right;\">      2</td><td style=\"text-align: right;\">0.2207</td><td style=\"text-align: right;\">                   5</td></tr>\n",
       "<tr><td>train_model_ee6a8_00011</td><td>TERMINATED</td><td>192.168.0.69:84520</td><td style=\"text-align: right;\">         512</td><td style=\"text-align: right;\">          4</td><td style=\"text-align: right;\">      2</td><td style=\"text-align: right;\">0.1773</td><td style=\"text-align: right;\">                   5</td></tr>\n",
       "</tbody>\n",
       "</table>\n",
       "  </div>\n",
       "</div>\n",
       "<style>\n",
       ".tuneStatus {\n",
       "  color: var(--jp-ui-font-color1);\n",
       "}\n",
       ".tuneStatus .systemInfo {\n",
       "  display: flex;\n",
       "  flex-direction: column;\n",
       "}\n",
       ".tuneStatus td {\n",
       "  white-space: nowrap;\n",
       "}\n",
       ".tuneStatus .trialStatus {\n",
       "  display: flex;\n",
       "  flex-direction: column;\n",
       "}\n",
       ".tuneStatus h3 {\n",
       "  font-weight: bold;\n",
       "}\n",
       ".tuneStatus .hDivider {\n",
       "  border-bottom-width: var(--jp-border-width);\n",
       "  border-bottom-color: var(--jp-border-color0);\n",
       "  border-bottom-style: solid;\n",
       "}\n",
       ".tuneStatus .vDivider {\n",
       "  border-left-width: var(--jp-border-width);\n",
       "  border-left-color: var(--jp-border-color0);\n",
       "  border-left-style: solid;\n",
       "  margin: 0.5em 1em 0.5em 1em;\n",
       "}\n",
       "</style>\n"
      ],
      "text/plain": [
       "<IPython.core.display.HTML object>"
      ]
     },
     "metadata": {},
     "output_type": "display_data"
    }
   ],
   "source": [
    "grid_reporter = JupyterNotebookReporter(\n",
    "    metric_columns=[\"loss\", \"training_iteration\"], \n",
    "    parameter_columns= [k for k, _ in config.items()]\n",
    ")"
   ]
  },
  {
   "cell_type": "code",
   "execution_count": 17,
   "id": "a161ce21",
   "metadata": {},
   "outputs": [
    {
     "name": "stderr",
     "output_type": "stream",
     "text": [
      "2023-05-30 17:09:10,131\tINFO worker.py:1553 -- Started a local Ray instance.\n"
     ]
    },
    {
     "data": {
      "text/html": [
       "<div class=\"trialProgress\">\n",
       "  <h3>Trial Progress</h3>\n",
       "  <table>\n",
       "<thead>\n",
       "<tr><th>Trial name             </th><th>date               </th><th>done  </th><th>episodes_total  </th><th>experiment_id                   </th><th>hostname  </th><th style=\"text-align: right;\">  iterations_since_restore</th><th style=\"text-align: right;\">  loss</th><th>node_ip     </th><th style=\"text-align: right;\">  pid</th><th>should_checkpoint  </th><th style=\"text-align: right;\">  time_since_restore</th><th style=\"text-align: right;\">  time_this_iter_s</th><th style=\"text-align: right;\">  time_total_s</th><th style=\"text-align: right;\">  timestamp</th><th style=\"text-align: right;\">  timesteps_since_restore</th><th>timesteps_total  </th><th style=\"text-align: right;\">  training_iteration</th><th>trial_id   </th><th style=\"text-align: right;\">  warmup_time</th></tr>\n",
       "</thead>\n",
       "<tbody>\n",
       "<tr><td>train_model_ee6a8_00000</td><td>2023-05-30_17-11-21</td><td>True  </td><td>                </td><td>5cce956d806d45d8807de628bb9eeba1</td><td>toms-ai3  </td><td style=\"text-align: right;\">                         5</td><td style=\"text-align: right;\">0.1772</td><td>192.168.0.69</td><td style=\"text-align: right;\">75727</td><td>True               </td><td style=\"text-align: right;\">            129.285 </td><td style=\"text-align: right;\">           24.7914</td><td style=\"text-align: right;\">      129.285 </td><td style=\"text-align: right;\"> 1685459481</td><td style=\"text-align: right;\">                        0</td><td>                 </td><td style=\"text-align: right;\">                   5</td><td>ee6a8_00000</td><td style=\"text-align: right;\">   0.00171781</td></tr>\n",
       "<tr><td>train_model_ee6a8_00001</td><td>2023-05-30_17-12-22</td><td>True  </td><td>                </td><td>2f58ed2bbca041babcae39544bf9f367</td><td>toms-ai3  </td><td style=\"text-align: right;\">                         2</td><td style=\"text-align: right;\">0.2068</td><td>192.168.0.69</td><td style=\"text-align: right;\">76844</td><td>True               </td><td style=\"text-align: right;\">             59.096 </td><td style=\"text-align: right;\">           23.2022</td><td style=\"text-align: right;\">       59.096 </td><td style=\"text-align: right;\"> 1685459542</td><td style=\"text-align: right;\">                        0</td><td>                 </td><td style=\"text-align: right;\">                   2</td><td>ee6a8_00001</td><td style=\"text-align: right;\">   0.00172281</td></tr>\n",
       "<tr><td>train_model_ee6a8_00002</td><td>2023-05-30_17-13-21</td><td>True  </td><td>                </td><td>6425814389b84895a89a1c2b5db5756b</td><td>toms-ai3  </td><td style=\"text-align: right;\">                         2</td><td style=\"text-align: right;\">0.2312</td><td>192.168.0.69</td><td style=\"text-align: right;\">77335</td><td>True               </td><td style=\"text-align: right;\">             57.5145</td><td style=\"text-align: right;\">           23.4221</td><td style=\"text-align: right;\">       57.5145</td><td style=\"text-align: right;\"> 1685459601</td><td style=\"text-align: right;\">                        0</td><td>                 </td><td style=\"text-align: right;\">                   2</td><td>ee6a8_00002</td><td style=\"text-align: right;\">   0.00169659</td></tr>\n",
       "<tr><td>train_model_ee6a8_00003</td><td>2023-05-30_17-15-41</td><td>True  </td><td>                </td><td>525336674ddd4befba700a7cc769fdd5</td><td>toms-ai3  </td><td style=\"text-align: right;\">                         5</td><td style=\"text-align: right;\">0.1799</td><td>192.168.0.69</td><td style=\"text-align: right;\">77869</td><td>True               </td><td style=\"text-align: right;\">            138.753 </td><td style=\"text-align: right;\">           28.1512</td><td style=\"text-align: right;\">      138.753 </td><td style=\"text-align: right;\"> 1685459741</td><td style=\"text-align: right;\">                        0</td><td>                 </td><td style=\"text-align: right;\">                   5</td><td>ee6a8_00003</td><td style=\"text-align: right;\">   0.00162458</td></tr>\n",
       "<tr><td>train_model_ee6a8_00004</td><td>2023-05-30_17-17-59</td><td>True  </td><td>                </td><td>e65ffce40eec42a8bc8095b5b2148f23</td><td>toms-ai3  </td><td style=\"text-align: right;\">                         5</td><td style=\"text-align: right;\">0.1703</td><td>192.168.0.69</td><td style=\"text-align: right;\">78881</td><td>True               </td><td style=\"text-align: right;\">            135.362 </td><td style=\"text-align: right;\">           24.4053</td><td style=\"text-align: right;\">      135.362 </td><td style=\"text-align: right;\"> 1685459879</td><td style=\"text-align: right;\">                        0</td><td>                 </td><td style=\"text-align: right;\">                   5</td><td>ee6a8_00004</td><td style=\"text-align: right;\">   0.00165606</td></tr>\n",
       "<tr><td>train_model_ee6a8_00005</td><td>2023-05-30_17-20-14</td><td>True  </td><td>                </td><td>30d334de16014b938e45674f409a0120</td><td>toms-ai3  </td><td style=\"text-align: right;\">                         5</td><td style=\"text-align: right;\">0.1688</td><td>192.168.0.69</td><td style=\"text-align: right;\">79934</td><td>True               </td><td style=\"text-align: right;\">            133.624 </td><td style=\"text-align: right;\">           26.2703</td><td style=\"text-align: right;\">      133.624 </td><td style=\"text-align: right;\"> 1685460014</td><td style=\"text-align: right;\">                        0</td><td>                 </td><td style=\"text-align: right;\">                   5</td><td>ee6a8_00005</td><td style=\"text-align: right;\">   0.00177431</td></tr>\n",
       "<tr><td>train_model_ee6a8_00006</td><td>2023-05-30_17-21-11</td><td>True  </td><td>                </td><td>0b4e64afe2984bad839b34a3e3dbc515</td><td>toms-ai3  </td><td style=\"text-align: right;\">                         2</td><td style=\"text-align: right;\">0.2138</td><td>192.168.0.69</td><td style=\"text-align: right;\">81017</td><td>True               </td><td style=\"text-align: right;\">             54.8462</td><td style=\"text-align: right;\">           21.471 </td><td style=\"text-align: right;\">       54.8462</td><td style=\"text-align: right;\"> 1685460071</td><td style=\"text-align: right;\">                        0</td><td>                 </td><td style=\"text-align: right;\">                   2</td><td>ee6a8_00006</td><td style=\"text-align: right;\">   0.00178146</td></tr>\n",
       "<tr><td>train_model_ee6a8_00007</td><td>2023-05-30_17-22-13</td><td>True  </td><td>                </td><td>79133d619da84ec98f030b4bc5c1345b</td><td>toms-ai3  </td><td style=\"text-align: right;\">                         2</td><td style=\"text-align: right;\">0.1967</td><td>192.168.0.69</td><td style=\"text-align: right;\">81508</td><td>True               </td><td style=\"text-align: right;\">             58.9576</td><td style=\"text-align: right;\">           24.7712</td><td style=\"text-align: right;\">       58.9576</td><td style=\"text-align: right;\"> 1685460133</td><td style=\"text-align: right;\">                        0</td><td>                 </td><td style=\"text-align: right;\">                   2</td><td>ee6a8_00007</td><td style=\"text-align: right;\">   0.00170565</td></tr>\n",
       "<tr><td>train_model_ee6a8_00008</td><td>2023-05-30_17-24-23</td><td>True  </td><td>                </td><td>3caba62cf8884db99b9ce4aad63b01dc</td><td>toms-ai3  </td><td style=\"text-align: right;\">                         5</td><td style=\"text-align: right;\">0.2082</td><td>192.168.0.69</td><td style=\"text-align: right;\">81999</td><td>True               </td><td style=\"text-align: right;\">            128.291 </td><td style=\"text-align: right;\">           23.3765</td><td style=\"text-align: right;\">      128.291 </td><td style=\"text-align: right;\"> 1685460263</td><td style=\"text-align: right;\">                        0</td><td>                 </td><td style=\"text-align: right;\">                   5</td><td>ee6a8_00008</td><td style=\"text-align: right;\">   0.00162935</td></tr>\n",
       "<tr><td>train_model_ee6a8_00009</td><td>2023-05-30_17-25-27</td><td>True  </td><td>                </td><td>3568e911795042a09b73c1d355468833</td><td>toms-ai3  </td><td style=\"text-align: right;\">                         2</td><td style=\"text-align: right;\">0.2014</td><td>192.168.0.69</td><td style=\"text-align: right;\">83017</td><td>True               </td><td style=\"text-align: right;\">             62.1599</td><td style=\"text-align: right;\">           27.7844</td><td style=\"text-align: right;\">       62.1599</td><td style=\"text-align: right;\"> 1685460327</td><td style=\"text-align: right;\">                        0</td><td>                 </td><td style=\"text-align: right;\">                   2</td><td>ee6a8_00009</td><td style=\"text-align: right;\">   0.00164104</td></tr>\n",
       "<tr><td>train_model_ee6a8_00010</td><td>2023-05-30_17-27-44</td><td>True  </td><td>                </td><td>c69be0f4651e43748a7d40afd0f45c83</td><td>toms-ai3  </td><td style=\"text-align: right;\">                         5</td><td style=\"text-align: right;\">0.2207</td><td>192.168.0.69</td><td style=\"text-align: right;\">83512</td><td>True               </td><td style=\"text-align: right;\">            135.406 </td><td style=\"text-align: right;\">           23.8592</td><td style=\"text-align: right;\">      135.406 </td><td style=\"text-align: right;\"> 1685460464</td><td style=\"text-align: right;\">                        0</td><td>                 </td><td style=\"text-align: right;\">                   5</td><td>ee6a8_00010</td><td style=\"text-align: right;\">   0.0016644 </td></tr>\n",
       "<tr><td>train_model_ee6a8_00011</td><td>2023-05-30_17-29-58</td><td>True  </td><td>                </td><td>60a0b454861541b2956cd70b18a114d8</td><td>toms-ai3  </td><td style=\"text-align: right;\">                         5</td><td style=\"text-align: right;\">0.1773</td><td>192.168.0.69</td><td style=\"text-align: right;\">84520</td><td>True               </td><td style=\"text-align: right;\">            132.157 </td><td style=\"text-align: right;\">           24.0273</td><td style=\"text-align: right;\">      132.157 </td><td style=\"text-align: right;\"> 1685460598</td><td style=\"text-align: right;\">                        0</td><td>                 </td><td style=\"text-align: right;\">                   5</td><td>ee6a8_00011</td><td style=\"text-align: right;\">   0.00198221</td></tr>\n",
       "</tbody>\n",
       "</table>\n",
       "</div>\n",
       "<style>\n",
       ".trialProgress {\n",
       "  display: flex;\n",
       "  flex-direction: column;\n",
       "  color: var(--jp-ui-font-color1);\n",
       "}\n",
       ".trialProgress h3 {\n",
       "  font-weight: bold;\n",
       "}\n",
       ".trialProgress td {\n",
       "  white-space: nowrap;\n",
       "}\n",
       "</style>\n"
      ],
      "text/plain": [
       "<IPython.core.display.HTML object>"
      ]
     },
     "metadata": {},
     "output_type": "display_data"
    },
    {
     "name": "stderr",
     "output_type": "stream",
     "text": [
      "2023-05-30 17:29:58,311\tINFO tune.py:798 -- Total run time: 1247.46 seconds (1247.44 seconds for the tuning loop).\n"
     ]
    }
   ],
   "source": [
    "grid_trials = tune.run(\n",
    "    train_model,\n",
    "    resources_per_trial={\"cpu\": 8, \"gpu\": 1},\n",
    "    config=config,\n",
    "    num_samples=NR_OF_TRIALS,\n",
    "    scheduler=scheduler,\n",
    "    progress_reporter=grid_reporter,\n",
    "    checkpoint_at_end=False\n",
    ")"
   ]
  },
  {
   "cell_type": "markdown",
   "id": "56f3c22c",
   "metadata": {},
   "source": [
    "### Train "
   ]
  },
  {
   "cell_type": "code",
   "execution_count": 22,
   "id": "d36e100e",
   "metadata": {},
   "outputs": [],
   "source": [
    "with en.EnginePandas(num_threads=1, no_logging=True) as e:\n",
    "    ti = e.np_from_csv(\n",
    "        (td_categorical, td_counts, td_timing, td_match, td_vesta_best_var, td_label), \n",
    "        tr_train_file, inference=False\n",
    "    )\n",
    "    \n",
    "train, val, test = ti.split_sequential(100000,0)\n",
    "\n",
    "train_sampler = mp.TensorInstanceNumpyLabelSampler().over_sampler(train)\n",
    "\n",
    "train_ds = mp.TensorInstanceNumpyDataSet(train)\n",
    "val_ds   = mp.TensorInstanceNumpyDataSet(val)\n",
    "\n",
    "train_dl = train_ds.data_loader(torch.device('cpu'), 128, num_workers=2, sampler=train_sampler)\n",
    "val_dl   = val_ds.data_loader(torch.device('cpu'), 128, num_workers=2)\n",
    "\n",
    "mc = mp.ModelConfiguration.from_tensor_definitions(ti.target_tensor_def)\n",
    "model = model = IEEEFeedForwardModel(mc, 256, 4, 2)"
   ]
  },
  {
   "cell_type": "code",
   "execution_count": 23,
   "id": "044ffe05",
   "metadata": {},
   "outputs": [
    {
     "name": "stderr",
     "output_type": "stream",
     "text": [
      "Finding LR in 300 steps: 100%|██████████| 300/300 [00:02<00:00, 141.61it/s]                                                    \n"
     ]
    },
    {
     "data": {
      "image/png": "[encoded data removed]",
      "text/plain": [
       "<Figure size 640x480 with 1 Axes>"
      ]
     },
     "metadata": {},
     "output_type": "display_data"
    }
   ],
   "source": [
    "min_lr = 1e-5\n",
    "max_lr = 1e-1\n",
    "m_lr = IEEEFeedForwardModel(mc, 256, 4, 1)\n",
    "o_lr = mp.AdamWOptimizer(m_lr, lr=min_lr)\n",
    "t_lr = mp.Trainer(m_lr, data_device, train_dl, val_dl)\n",
    "lrs  = t_lr.find_lr(o_lr, max_lr, 300)\n",
    "mplt.TrainPlot.plot_lr(lrs);\n",
    "del m_lr, o_lr, t_lr, lrs\n",
    "_ = gc.collect()"
   ]
  },
  {
   "cell_type": "code",
   "execution_count": 24,
   "id": "881190d1",
   "metadata": {},
   "outputs": [
    {
     "name": "stderr",
     "output_type": "stream",
     "text": [
      "Epoch 001/005: 100%|██████████| 4615/4615 [00:23<00:00, 197.93it/s, t_loss=0.341, t_acc=0.849, v_loss=0.297, v_acc=0.882]      \n",
      "Epoch 002/005: 100%|██████████| 4615/4615 [00:23<00:00, 195.88it/s, t_loss=0.214, t_acc=0.91, v_loss=0.184, v_acc=0.931]       \n",
      "Epoch 003/005: 100%|██████████| 4615/4615 [00:24<00:00, 186.65it/s, t_loss=0.136, t_acc=0.945, v_loss=0.194, v_acc=0.933]      \n",
      "Epoch 004/005: 100%|██████████| 4615/4615 [00:23<00:00, 194.52it/s, t_loss=0.0844, t_acc=0.967, v_loss=0.184, v_acc=0.953]     \n",
      "Epoch 005/005: 100%|██████████| 4615/4615 [00:21<00:00, 214.68it/s, t_loss=0.0567, t_acc=0.979, v_loss=0.188, v_acc=0.956]     \n"
     ]
    }
   ],
   "source": [
    "EPOCHS = 5\n",
    "\n",
    "# First create a trainer.\n",
    "trainer = mp.Trainer(model, model_device, train_dl, val_dl)\n",
    "\n",
    "# Then an optimizer\n",
    "optimizer = mp.AdamWOptimizer(model, lr=2e-3)\n",
    "\n",
    "# Set-up a OneCycle Scheduler\n",
    "scheduler = torch.optim.lr_scheduler.OneCycleLR(\n",
    "            optimizer=optimizer.optimizer, \n",
    "            max_lr=optimizer.lr,\n",
    "            steps_per_epoch=trainer.number_of_train_steps,\n",
    "            epochs=EPOCHS\n",
    ")\n",
    "\n",
    "# Run the trainer\n",
    "history = trainer.train(EPOCHS, optimizer, scheduler)"
   ]
  },
  {
   "cell_type": "markdown",
   "id": "791063fe",
   "metadata": {},
   "source": [
    "### Test\n",
    "After testing we can pretty much see that there is no change in the model performance, so for this architecture we are **good to replace the match features** with OneHot encodings."
   ]
  },
  {
   "cell_type": "code",
   "execution_count": 25,
   "id": "ad02daf6",
   "metadata": {
    "scrolled": false
   },
   "outputs": [
    {
     "name": "stderr",
     "output_type": "stream",
     "text": [
      "Testing in 782 steps: 100%|██████████████████| 782/782 [00:01<00:00, 455.77it/s]\n"
     ]
    },
    {
     "name": "stdout",
     "output_type": "stream",
     "text": [
      "------------- Classification report -----------------\n",
      "              precision    recall  f1-score   support\n",
      "\n",
      "         0.0       0.98      0.97      0.98     96566\n",
      "         1.0       0.40      0.56      0.47      3434\n",
      "\n",
      "    accuracy                           0.96    100000\n",
      "   macro avg       0.69      0.77      0.72    100000\n",
      "weighted avg       0.96      0.96      0.96    100000\n",
      "\n",
      "\n",
      "auc score : 0.8855\n",
      "ap score  : 0.4999\n",
      "-----------------------------------------------------\n"
     ]
    },
    {
     "data": {
      "image/png": "[encoded data removed]",
      "text/plain": [
       "<Figure size 500x500 with 1 Axes>"
      ]
     },
     "metadata": {},
     "output_type": "display_data"
    },
    {
     "data": {
      "image/png": "[encoded data removed]",
      "text/plain": [
       "<Figure size 600x600 with 1 Axes>"
      ]
     },
     "metadata": {},
     "output_type": "display_data"
    },
    {
     "data": {
      "image/png": "[encoded data removed]",
      "text/plain": [
       "<Figure size 600x600 with 1 Axes>"
      ]
     },
     "metadata": {},
     "output_type": "display_data"
    }
   ],
   "source": [
    "t = mp.Tester(model, torch.device(model_device), val_dl)\n",
    "results = t.test_results_binary()\n",
    "mplt.TestPlot.print_binary_classification_report(results)\n",
    "mplt.TestPlot.plot_binary_confusion_matrix(results, fig_size=(5,5))\n",
    "mplt.TestPlot.plot_roc_curve(results, fig_size=(6,6))\n",
    "mplt.TestPlot.plot_precision_recall_curve(results, fig_size=(6,6))"
   ]
  },
  {
   "cell_type": "markdown",
   "id": "94d2faa9",
   "metadata": {},
   "source": [
    "# Conclusion\n",
    "With these tests it became clear that we can replace really low cardinality features (more or less flags) with a `FeatureOneHot` without harming the model. This does not seem to hold for feature that have slightly higher cardinality (like the product). \n",
    "\n",
    "Quite interesting, it seems that the embeddings might actually provide a useful abstraction in the models."
   ]
  }
 ],
 "metadata": {
  "kernelspec": {
   "display_name": "Python 3 (ipykernel)",
   "language": "python",
   "name": "python3"
  },
  "language_info": {
   "codemirror_mode": {
    "name": "ipython",
    "version": 3
   },
   "file_extension": ".py",
   "mimetype": "text/x-python",
   "name": "python",
   "nbconvert_exporter": "python",
   "pygments_lexer": "ipython3",
   "version": "3.10.6"
  }
 },
 "nbformat": 4,
 "nbformat_minor": 5
}
